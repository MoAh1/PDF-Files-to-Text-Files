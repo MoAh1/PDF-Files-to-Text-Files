{
 "cells": [
  {
   "cell_type": "code",
   "execution_count": null,
   "metadata": {},
   "outputs": [],
   "source": [
    "import re\n",
    "import os\n",
    "from azure.core.credentials import AzureKeyCredential\n",
    "from azure.ai.documentintelligence import DocumentIntelligenceClient\n",
    "from azure.ai.documentintelligence.models import AnalyzeResult\n",
    "\n",
    "endpoint = '------------------'\n",
    "doc_intelligence_key = '------------------'\n",
    "\n",
    "input_folder = \"PdfFiles\"\n",
    "output_folder = \"TextFiles\""
   ]
  },
  {
   "cell_type": "code",
   "execution_count": null,
   "metadata": {},
   "outputs": [],
   "source": [
    "document_intelligence_client = DocumentIntelligenceClient(\n",
    "    endpoint=endpoint, \n",
    "    api_version=\"------------\", \n",
    "    credential=AzureKeyCredential(doc_intelligence_key)\n",
    ")"
   ]
  },
  {
   "cell_type": "code",
   "execution_count": 3,
   "metadata": {},
   "outputs": [
    {
     "name": "stdout",
     "output_type": "stream",
     "text": [
      "Processed and saved: TextFiles\\mpireport2024en.txt\n",
      "All documents processed and saved.\n"
     ]
    }
   ],
   "source": [
    "def process_and_save_text(file_path, output_path):\n",
    "    try:\n",
    "        with open(file_path, \"rb\") as f:\n",
    "            poller = document_intelligence_client.begin_analyze_document(\n",
    "                \"prebuilt-layout\", \n",
    "                analyze_request=f, \n",
    "                content_type=\"application/octet-stream\", \n",
    "                output_content_format='markdown'\n",
    "            )\n",
    "            result = poller.result()\n",
    "            content_per_page = []\n",
    "            page_number = 1\n",
    "\n",
    "            for page in result.pages:\n",
    "                raw_content = result.content[page.spans[0]['offset']: page.spans[0]['offset'] + page.spans[0]['length']]\n",
    "                cleaned_content = re.sub(r\"(?<=\\w)\\n(?=\\w)\", \" \", raw_content) \n",
    "                cleaned_content = re.sub(r\"-\\n\", \"\", cleaned_content)  \n",
    "                cleaned_content = ' '.join(cleaned_content.split())\n",
    "                content_per_page.append(f\"Page {page_number}\\n{cleaned_content}\\n\")\n",
    "                page_number += 1\n",
    "            with open(output_path, \"w\", encoding=\"utf-8\") as output_file:\n",
    "                output_file.write(\"\\n\\n\".join(content_per_page))       \n",
    "        print(f\"Processed and saved: {output_path}\")\n",
    "    except Exception as e:\n",
    "        print(f\"Error processing {file_path}: {e}\")\n",
    "os.makedirs(output_folder, exist_ok=True)\n",
    "\n",
    "existing_base_names = set()\n",
    "for file in os.listdir(output_folder):\n",
    "    if not (file.lower().endswith('.pdf') or file.lower().endswith('.txt')):\n",
    "        base_name = os.path.splitext(file)[0]\n",
    "        existing_base_names.add(base_name)\n",
    "\n",
    "for filename in os.listdir(input_folder):\n",
    "    if filename.lower().endswith(\".pdf\"):  \n",
    "        base_name = os.path.splitext(filename)[0]\n",
    "        if base_name in existing_base_names:\n",
    "            print(f\"Skipping '{filename}' as a matching output file exists in '{output_folder}'.\")\n",
    "            continue\n",
    "        input_file_path = os.path.join(input_folder, filename)\n",
    "        output_file_name = f\"{base_name}.txt\"\n",
    "        output_file_path = os.path.join(output_folder, output_file_name)\n",
    "        if os.path.exists(output_file_path):\n",
    "            print(f\"Skipping '{filename}' as '{output_file_name}' already exists in '{output_folder}'.\")\n",
    "            continue \n",
    "        process_and_save_text(input_file_path, output_file_path)\n",
    "\n",
    "print(\"All documents processed and saved.\")"
   ]
  }
 ],
 "metadata": {
  "kernelspec": {
   "display_name": "Python 3",
   "language": "python",
   "name": "python3"
  },
  "language_info": {
   "codemirror_mode": {
    "name": "ipython",
    "version": 3
   },
   "file_extension": ".py",
   "mimetype": "text/x-python",
   "name": "python",
   "nbconvert_exporter": "python",
   "pygments_lexer": "ipython3",
   "version": "3.12.6"
  }
 },
 "nbformat": 4,
 "nbformat_minor": 4
}
